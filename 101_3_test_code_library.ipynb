{
 "cells": [
  {
   "cell_type": "code",
   "execution_count": 1,
   "id": "bd7d0c26-0a03-4ae9-818b-d0afc1c5465b",
   "metadata": {},
   "outputs": [],
   "source": [
    "import code_library as cl\n",
    "import json\n",
    "from schema import src_stg_schema"
   ]
  },
  {
   "cell_type": "markdown",
   "id": "10c9c971-8867-4bc2-823c-93f64f2e2bfb",
   "metadata": {},
   "source": [
    "# Loading unstructured files from s3 to snowflake"
   ]
  },
  {
   "cell_type": "raw",
   "id": "1588fdd5-0ef2-4f4f-9221-8f97f5a1644d",
   "metadata": {},
   "source": [
    "# Following is the methods I tried in snowflake:\n",
    "// Method 1 for copying unstructured data from s3 to snowflake\n",
    "create or replace table emp_avro \n",
    "(\n",
    "emp variant\n",
    ");\n",
    "\n",
    "copy into emp_avro\n",
    "from '@DEMO_DB.EXTERNAL_STAGES.S3_STG2/sp_avro'\n",
    "file_format  = (type = 'AVRO')\n",
    "on_error = continue;\n",
    "\n",
    "\n",
    "select * from emp_avro;\n",
    "\n",
    "\n",
    "\n",
    "SELECT $1:registration_dttm, \n",
    "       $1:id, \n",
    "       $1:first_name, \n",
    "       $1:last_name, \n",
    "       $1:email, \n",
    "       $1:gender, \n",
    "       $1:ip_address, \n",
    "       $1:cc, \n",
    "       $1:country, \n",
    "       $1:birthdate, \n",
    "       $1:salary, \n",
    "       $1:title, \n",
    "       $1:comments\n",
    "FROM emp_avro;\n",
    "\n",
    "// now we can create a new table with the above columns and load the data into that table using insert statement, but if an error occurs, the insert job will fail and we won't be able to leveraget he on_error parameter we use in the copy command.\n",
    "\n",
    "// Method 2 for copying unstructured data from s3 to snowflake\n",
    "\n",
    "// create a temporary stagging area\n",
    "create or replace temp stage demo_db.public.mystage;\n",
    "list '@demo_db.public.mystage';\n",
    "create or replace file format my_avro\n",
    "type = 'AVRO';\n",
    "\n",
    "// load the data into that stagging area from s3 using the copy command\n",
    "COPY INTO @demo_db.public.mystage FROM\n",
    "(\n",
    "SELECT $1:registration_dttm, \n",
    "       $1:id, \n",
    "       $1:first_name, \n",
    "       $1:last_name, \n",
    "       $1:email, \n",
    "       $1:gender, \n",
    "       $1:ip_address, \n",
    "       $1:cc, \n",
    "       $1:country, \n",
    "       $1:birthdate, \n",
    "       $1:salary, \n",
    "       $1:title, \n",
    "       $1:comments\n",
    "FROM '@DEMO_DB.EXTERNAL_STAGES.S3_STG2/sp_avro'\n",
    "(file_format => 'my_avro')\n",
    ")\n",
    "file_format = (type = 'csv');\n",
    "\n",
    "// create a table to store the details\n",
    "CREATE TABLE emp_details_avro\n",
    "(\n",
    "    REGISTRATION_DTTM STRING,\n",
    "    ID STRING,\n",
    "    FIRST_NAME STRING,\n",
    "    LAST_NAME STRING,\n",
    "    EMAIL STRING,\n",
    "    GENDER STRING,\n",
    "    IP_ADDRESS STRING,\n",
    "    CC STRING,\n",
    "    COUNTRY STRING,\n",
    "    BIRTHDATE STRING,\n",
    "    SALARY STRING,\n",
    "    TITLE STRING,\n",
    "    COMMENTS STRING\n",
    ");\n",
    "\n",
    "// copy the data into the final table\n",
    "copy into emp_details_avro\n",
    "from '@demo_db.public.mystage'\n",
    "file_format = (type = 'CSV')\n",
    "ON_ERROR = CONTINUE;\n"
   ]
  },
  {
   "cell_type": "code",
   "execution_count": 2,
   "id": "8eff7dd1-7d14-49e6-91c7-ce6dfda8f82d",
   "metadata": {},
   "outputs": [
    {
     "data": {
      "text/plain": [
       "{'Database_name': 'DEMO_DB',\n",
       " 'Schema_name': 'PUBLIC',\n",
       " 'Target_table': 'INT_EMP_DETAILS_AVRO',\n",
       " 'Reject_table': 'EMPLOYEE_AVRO_REJECTS',\n",
       " 'target_columns': ['REGISTRATION_DTTM',\n",
       "  'ID',\n",
       "  'FIRST_NAME',\n",
       "  'LAST_NAME',\n",
       "  'EMAIL',\n",
       "  'GENDER',\n",
       "  'IP_ADDRESS',\n",
       "  'CC',\n",
       "  'COUNTRY',\n",
       "  'BIRTHDATE',\n",
       "  'SALARY',\n",
       "  'TITLE',\n",
       "  'COMMENTS'],\n",
       " 'on_error': 'CONTINUE',\n",
       " 'Source_location': '@DEMO_DB.EXTERNAL_STAGES.S3_STG2/sp_avro/',\n",
       " 'Source_file_type': 'avro'}"
      ]
     },
     "execution_count": 2,
     "metadata": {},
     "output_type": "execute_result"
    }
   ],
   "source": [
    "config_snow_copy = open('config_files/copy_to_snowstg_avro.json')\n",
    "config_snow_copy = json.loads(config_snow_copy.read())\n",
    "config_snow_copy"
   ]
  },
  {
   "cell_type": "code",
   "execution_count": 3,
   "id": "ba43185a-84d2-4463-b6c3-5e4309858688",
   "metadata": {},
   "outputs": [],
   "source": [
    "session = cl.snowconnection(cl.connection_parameters)"
   ]
  },
  {
   "cell_type": "code",
   "execution_count": 4,
   "id": "41cfb629-3dc5-4d6d-865d-0339dcfc9c7f",
   "metadata": {},
   "outputs": [],
   "source": [
    "# # Commenting the entire block of code as the stage is allready created, if you are running for the first time recreate the stage\n",
    "# #creating a new stage with a file format for avro file\n",
    "# result = session.sql(\n",
    "#     f\"\"\"\n",
    "#         CREATE OR REPLACE stage demo_db.external_stages.s3_stg2\n",
    "#             URL = {cl.secrets['s3_bucket_for_stg']}\n",
    "#             STORAGE_INTEGRATION = s3_int\n",
    "#             file_format = (type = 'AVRO')\n",
    "#     \"\"\"\n",
    "#     )\n",
    "\n",
    "# result.show()\n",
    "# \"\"\"\n",
    "# --------------------------------------------\n",
    "# |\"status\"                                  |\n",
    "# --------------------------------------------\n",
    "# |Stage area S3_STG2 successfully created.  |\n",
    "# --------------------------------------------\n",
    "# \"\"\""
   ]
  },
  {
   "cell_type": "code",
   "execution_count": 5,
   "id": "24f8135a-8a87-4672-8dab-d394fcb3dcf6",
   "metadata": {},
   "outputs": [
    {
     "name": "stdout",
     "output_type": "stream",
     "text": [
      "-----------------------------------------------------------------------------------------------------------------------------------------------\n",
      "|\"parent_property\"   |\"property\"                  |\"property_type\"  |\"property_value\"                                    |\"property_default\"  |\n",
      "-----------------------------------------------------------------------------------------------------------------------------------------------\n",
      "|STAGE_FILE_FORMAT   |TYPE                        |String           |AVRO                                                |CSV                 |\n",
      "|STAGE_FILE_FORMAT   |TRIM_SPACE                  |Boolean          |false                                               |false               |\n",
      "|STAGE_FILE_FORMAT   |NULL_IF                     |List             |[]                                                  |[\\\\N]               |\n",
      "|STAGE_FILE_FORMAT   |COMPRESSION                 |String           |AUTO                                                |AUTO                |\n",
      "|STAGE_FILE_FORMAT   |REPLACE_INVALID_CHARACTERS  |Boolean          |false                                               |false               |\n",
      "|STAGE_COPY_OPTIONS  |ON_ERROR                    |String           |ABORT_STATEMENT                                     |ABORT_STATEMENT     |\n",
      "|STAGE_COPY_OPTIONS  |SIZE_LIMIT                  |Long             |                                                    |                    |\n",
      "|STAGE_COPY_OPTIONS  |PURGE                       |Boolean          |false                                               |false               |\n",
      "|STAGE_COPY_OPTIONS  |RETURN_FAILED_ONLY          |Boolean          |false                                               |false               |\n",
      "|STAGE_COPY_OPTIONS  |ENFORCE_LENGTH              |Boolean          |true                                                |true                |\n",
      "|STAGE_COPY_OPTIONS  |TRUNCATECOLUMNS             |Boolean          |false                                               |false               |\n",
      "|STAGE_COPY_OPTIONS  |FORCE                       |Boolean          |false                                               |false               |\n",
      "|STAGE_LOCATION      |URL                         |String           |[\"s3://inzs3bucketlearn/\"]                          |                    |\n",
      "|STAGE_INTEGRATION   |STORAGE_INTEGRATION         |String           |S3_INT                                              |                    |\n",
      "|STAGE_CREDENTIALS   |AWS_ROLE                    |String           |arn:aws:iam::176074345291:role/snowflake-access...  |                    |\n",
      "|STAGE_CREDENTIALS   |AWS_EXTERNAL_ID             |String           |HW30486_SFCRole=2_5Ni8/dGiPHsn/OHb189plyZBRj8=      |                    |\n",
      "|STAGE_CREDENTIALS   |SNOWFLAKE_IAM_USER          |String           |arn:aws:iam::058264540845:user/la9n0000-s           |                    |\n",
      "|DIRECTORY           |ENABLE                      |Boolean          |false                                               |false               |\n",
      "|DIRECTORY           |AUTO_REFRESH                |Boolean          |false                                               |false               |\n",
      "-----------------------------------------------------------------------------------------------------------------------------------------------\n",
      "\n"
     ]
    }
   ],
   "source": [
    "# describing the stage\n",
    "result = session.sql(\n",
    "    f\"\"\"\n",
    "        desc stage DEMO_DB.EXTERNAL_STAGES.S3_STG2;\n",
    "    \"\"\"\n",
    "    )\n",
    "\n",
    "result.show(1000)"
   ]
  },
  {
   "cell_type": "code",
   "execution_count": 6,
   "id": "978bc279-7325-408b-9eb0-21518de3491b",
   "metadata": {},
   "outputs": [
    {
     "name": "stdout",
     "output_type": "stream",
     "text": [
      "-------------------------------------------------------------------------------------------------------------------------------\n",
      "|\"name\"                                           |\"size\"  |\"md5\"                             |\"last_modified\"                |\n",
      "-------------------------------------------------------------------------------------------------------------------------------\n",
      "|s3://inzs3bucketlearn/sp_avro/userdata1.avro     |93561   |e60871d1105f230b90d5ae2f8d9481ce  |Wed, 21 Feb 2024 11:05:57 GMT  |\n",
      "|s3://inzs3bucketlearn/sp_csv/employee01.csv      |342     |8e77d4649e70c82d47e0d4d8b76a13ee  |Wed, 21 Feb 2024 11:08:40 GMT  |\n",
      "|s3://inzs3bucketlearn/sp_csv/employee02.csv      |391     |2ccf600775f9db9c78b49964cb5ff821  |Wed, 21 Feb 2024 11:08:41 GMT  |\n",
      "|s3://inzs3bucketlearn/sp_csv/employee03.csv      |408     |a3f1099a25248926a1d9fa32947ca289  |Wed, 21 Feb 2024 11:08:41 GMT  |\n",
      "|s3://inzs3bucketlearn/sp_csv/employee04.csv      |387     |9906f9f4449edb68f7570737d6999b3b  |Wed, 21 Feb 2024 11:08:42 GMT  |\n",
      "|s3://inzs3bucketlearn/sp_csv/employee05.csv      |402     |1303cbdef0e2f6c637c3e44979f8ef78  |Wed, 21 Feb 2024 11:08:43 GMT  |\n",
      "|s3://inzs3bucketlearn/sp_json/books1.json        |1372    |2c2f6e608a744510090007576af66e8e  |Wed, 21 Feb 2024 11:09:40 GMT  |\n",
      "|s3://inzs3bucketlearn/sp_orc/userdata1_orc       |47448   |1595b4de335ac1825af2b846e82fbf48  |Wed, 21 Feb 2024 11:06:21 GMT  |\n",
      "|s3://inzs3bucketlearn/sp_parc/userdata1.parquet  |113629  |2f67292983870c49f4ee50330c4f7b7f  |Wed, 21 Feb 2024 11:06:40 GMT  |\n",
      "-------------------------------------------------------------------------------------------------------------------------------\n",
      "\n"
     ]
    }
   ],
   "source": [
    "# listing the files to know if we are able to access the stage\n",
    "result = session.sql(\n",
    "    f\"\"\"\n",
    "        list @DEMO_DB.EXTERNAL_STAGES.S3_STG2;\n",
    "    \"\"\"\n",
    "    )\n",
    "\n",
    "result.show()"
   ]
  },
  {
   "cell_type": "code",
   "execution_count": 7,
   "id": "08bf00d2-8c09-4bef-a852-73ac4b810f7e",
   "metadata": {},
   "outputs": [],
   "source": [
    "# dir(session.read)"
   ]
  },
  {
   "cell_type": "code",
   "execution_count": 8,
   "id": "4cb5b593-0340-44d7-ae9c-6f0fe9f80bd6",
   "metadata": {},
   "outputs": [],
   "source": [
    "# help(session.read)"
   ]
  },
  {
   "cell_type": "code",
   "execution_count": 9,
   "id": "770775ce-4772-418d-85c6-f288d7beeef8",
   "metadata": {},
   "outputs": [],
   "source": [
    "#   # Example 6:\n",
    "#   #      Loading an AVRO file and infer the schema:\n",
    "#   #          >>> from snowflake.snowpark.functions import col\n",
    "#   #          >>> _ = session.file.put(\"tests/resources/test.avro\", \"@mystage\", auto_compress=False)\n",
    "#   #          >>> # Create a DataFrame that uses a DataFrameReader to load data from a file in a stage.\n",
    "#   #          >>> df = session.read.avro(\"@mystage/test.avro\").where(col('\"num\"') == 2)\n",
    "#   #          >>> # Load the data into the DataFrame and return an array of rows containing the results.\n",
    "#   #          >>> df.collect()\n",
    "#   #          [Row(str='str2', num=2)]\n",
    "\n",
    "# from snowflake.snowpark.functions import col\n",
    "# df = session.read.avro(\"@DEMO_DB.EXTERNAL_STAGES.S3_STG2/sp_avro/user_data1.avro\").where(col('\"num\"') == 2)\n",
    "# df.collect()"
   ]
  },
  {
   "cell_type": "code",
   "execution_count": 10,
   "id": "739fd99d-3383-41b1-acc6-3e54355a3106",
   "metadata": {},
   "outputs": [],
   "source": [
    "df = session.read.avro(\"@DEMO_DB.EXTERNAL_STAGES.S3_STG2/sp_avro/\")"
   ]
  },
  {
   "cell_type": "code",
   "execution_count": 11,
   "id": "9ad7d63e-6b51-400d-bf0a-c086d00f8b6e",
   "metadata": {},
   "outputs": [
    {
     "data": {
      "text/plain": [
       "['\"registration_dttm\"',\n",
       " '\"id\"',\n",
       " '\"first_name\"',\n",
       " '\"last_name\"',\n",
       " '\"email\"',\n",
       " '\"gender\"',\n",
       " '\"ip_address\"',\n",
       " '\"cc\"',\n",
       " '\"country\"',\n",
       " '\"birthdate\"',\n",
       " '\"salary\"',\n",
       " '\"title\"',\n",
       " '\"comments\"']"
      ]
     },
     "execution_count": 11,
     "metadata": {},
     "output_type": "execute_result"
    }
   ],
   "source": [
    "df.columns"
   ]
  },
  {
   "cell_type": "code",
   "execution_count": 12,
   "id": "c181424a-066c-4833-83cf-afd7be793e8f",
   "metadata": {},
   "outputs": [
    {
     "data": {
      "text/plain": [
       "StructType([StructField('\"registration_dttm\"', StringType(16777216), nullable=False), StructField('\"id\"', LongType(), nullable=False), StructField('\"first_name\"', StringType(16777216), nullable=False), StructField('\"last_name\"', StringType(16777216), nullable=False), StructField('\"email\"', StringType(16777216), nullable=False), StructField('\"gender\"', StringType(16777216), nullable=False), StructField('\"ip_address\"', StringType(16777216), nullable=False), StructField('\"cc\"', LongType(), nullable=True), StructField('\"country\"', StringType(16777216), nullable=False), StructField('\"birthdate\"', StringType(16777216), nullable=False), StructField('\"salary\"', DoubleType(), nullable=True), StructField('\"title\"', StringType(16777216), nullable=False), StructField('\"comments\"', StringType(16777216), nullable=False)])"
      ]
     },
     "execution_count": 12,
     "metadata": {},
     "output_type": "execute_result"
    }
   ],
   "source": [
    "df.schema"
   ]
  },
  {
   "cell_type": "markdown",
   "id": "150be0e8-9a3b-43ab-af0f-e37e189936be",
   "metadata": {},
   "source": [
    "# copy the above schema and replace the double quotes and paste it in the schema folder.\n",
    "## we are using this schema as we created the table in snowflake manually using these column names.\n",
    "## ddl for the created table \n",
    "    // create a table to store the details\n",
    "CREATE TABLE int_emp_details_avro\n",
    "(\n",
    "    REGISTRATION_DTTM STRING,\n",
    "    ID STRING,\n",
    "    FIRST_NAME STRING,\n",
    "    LAST_NAME STRING,\n",
    "    EMAIL STRING,\n",
    "    GENDER STRING,\n",
    "    IP_ADDRESS STRING,\n",
    "    CC STRING,\n",
    "    COUNTRY STRING,\n",
    "    BIRTHDATE STRING,\n",
    "    SALARY STRING,\n",
    "    TITLE STRING,\n",
    "    COMMENTS STRING\n",
    ");\n"
   ]
  },
  {
   "cell_type": "code",
   "execution_count": 13,
   "id": "87f5631c-b584-476b-b0e3-a176681161c3",
   "metadata": {},
   "outputs": [
    {
     "name": "stdout",
     "output_type": "stream",
     "text": [
      "maped_columns : None\n"
     ]
    },
    {
     "ename": "AttributeError",
     "evalue": "'NoneType' object has no attribute 'keys'",
     "output_type": "error",
     "traceback": [
      "\u001b[0;31m---------------------------------------------------------------------------\u001b[0m",
      "\u001b[0;31mAttributeError\u001b[0m                            Traceback (most recent call last)",
      "Cell \u001b[0;32mIn[13], line 1\u001b[0m\n\u001b[0;32m----> 1\u001b[0m copied_into_result, qid \u001b[38;5;241m=\u001b[39m \u001b[43mcl\u001b[49m\u001b[38;5;241;43m.\u001b[39;49m\u001b[43mcopy_to_table_semi_struct_data\u001b[49m\u001b[43m(\u001b[49m\u001b[43msession\u001b[49m\u001b[43m,\u001b[49m\u001b[43m \u001b[49m\u001b[43mconfig_snow_copy\u001b[49m\u001b[43m,\u001b[49m\u001b[43m \u001b[49m\u001b[43msrc_stg_schema\u001b[49m\u001b[38;5;241;43m.\u001b[39;49m\u001b[43mint_emp_details_avro\u001b[49m\u001b[43m)\u001b[49m\n",
      "File \u001b[0;32m~/environment/snowflake_generic_components/code_library.py:122\u001b[0m, in \u001b[0;36mcopy_to_table_semi_struct_data\u001b[0;34m(session, config_file, schema)\u001b[0m\n\u001b[1;32m    119\u001b[0m     df \u001b[38;5;241m=\u001b[39m session\u001b[38;5;241m.\u001b[39mread\u001b[38;5;241m.\u001b[39mavro(Source_location)\n\u001b[1;32m    121\u001b[0m \u001b[38;5;66;03m# Map columns in df to target table\u001b[39;00m\n\u001b[0;32m--> 122\u001b[0m df \u001b[38;5;241m=\u001b[39m \u001b[43mmap_columns\u001b[49m\u001b[43m(\u001b[49m\u001b[43mdf\u001b[49m\u001b[43m,\u001b[49m\u001b[43mmaped_columns\u001b[49m\u001b[43m)\u001b[49m\n\u001b[1;32m    124\u001b[0m \u001b[38;5;66;03m# Create temporary stage\u001b[39;00m\n\u001b[1;32m    125\u001b[0m _ \u001b[38;5;241m=\u001b[39m session\u001b[38;5;241m.\u001b[39msql(\u001b[38;5;124m\"\u001b[39m\u001b[38;5;124mcreate or replace temp stage demo_db.public.mystage\u001b[39m\u001b[38;5;124m\"\u001b[39m)\u001b[38;5;241m.\u001b[39mcollect()\n",
      "File \u001b[0;32m~/environment/snowflake_generic_components/code_library.py:91\u001b[0m, in \u001b[0;36mmap_columns\u001b[0;34m(df, map_columns)\u001b[0m\n\u001b[1;32m     88\u001b[0m \u001b[38;5;28;01mdef\u001b[39;00m \u001b[38;5;21mmap_columns\u001b[39m(df,map_columns):\n\u001b[1;32m     89\u001b[0m     \u001b[38;5;66;03m# Remove double qoutes from the column names and drop unwanted columns\u001b[39;00m\n\u001b[1;32m     90\u001b[0m     cols \u001b[38;5;241m=\u001b[39m df\u001b[38;5;241m.\u001b[39mcolumns\n\u001b[0;32m---> 91\u001b[0m     map_keys \u001b[38;5;241m=\u001b[39m [key\u001b[38;5;241m.\u001b[39mupper() \u001b[38;5;28;01mfor\u001b[39;00m key \u001b[38;5;129;01min\u001b[39;00m \u001b[43mmap_columns\u001b[49m\u001b[38;5;241;43m.\u001b[39;49m\u001b[43mkeys\u001b[49m()]\n\u001b[1;32m     92\u001b[0m     \u001b[38;5;28;01mfor\u001b[39;00m c \u001b[38;5;129;01min\u001b[39;00m cols:\n\u001b[1;32m     93\u001b[0m         df \u001b[38;5;241m=\u001b[39m df\u001b[38;5;241m.\u001b[39mwith_column_renamed(c,c\u001b[38;5;241m.\u001b[39mreplace(\u001b[38;5;124m'\u001b[39m\u001b[38;5;124m\"\u001b[39m\u001b[38;5;124m'\u001b[39m,\u001b[38;5;124m'\u001b[39m\u001b[38;5;124m'\u001b[39m))\n",
      "\u001b[0;31mAttributeError\u001b[0m: 'NoneType' object has no attribute 'keys'"
     ]
    }
   ],
   "source": [
    "copied_into_result, qid = cl.copy_to_table_semi_struct_data(session, config_snow_copy, src_stg_schema.int_emp_details_avro)"
   ]
  }
 ],
 "metadata": {
  "kernelspec": {
   "display_name": "Python 3 (ipykernel)",
   "language": "python",
   "name": "python3"
  },
  "language_info": {
   "codemirror_mode": {
    "name": "ipython",
    "version": 3
   },
   "file_extension": ".py",
   "mimetype": "text/x-python",
   "name": "python",
   "nbconvert_exporter": "python",
   "pygments_lexer": "ipython3",
   "version": "3.9.16"
  }
 },
 "nbformat": 4,
 "nbformat_minor": 5
}
