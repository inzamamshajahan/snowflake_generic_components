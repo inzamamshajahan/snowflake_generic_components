{
 "cells": [
  {
   "cell_type": "markdown",
   "id": "10c9c971-8867-4bc2-823c-93f64f2e2bfb",
   "metadata": {},
   "source": [
    "# Loading unstructured files from s3 to snowflake"
   ]
  },
  {
   "cell_type": "raw",
   "id": "1ab83968-6d45-4266-bf5b-062d8297b97d",
   "metadata": {},
   "source": [
    "# Following is the methods I tried in snowflake:\n",
    "// Method 1 for copying unstructured data from s3 to snowflake\n",
    "create or replace table emp_avro \n",
    "(\n",
    "emp variant\n",
    ");\n",
    "\n",
    "copy into emp_avro\n",
    "from '@DEMO_DB.EXTERNAL_STAGES.S3_STG2/sp_avro'\n",
    "file_format  = (type = 'AVRO')\n",
    "on_error = continue;\n",
    "\n",
    "\n",
    "select * from emp_avro;\n",
    "\n",
    "\n",
    "\n",
    "SELECT $1:registration_dttm, \n",
    "       $1:id, \n",
    "       $1:first_name, \n",
    "       $1:last_name, \n",
    "       $1:email, \n",
    "       $1:gender, \n",
    "       $1:ip_address, \n",
    "       $1:cc, \n",
    "       $1:country, \n",
    "       $1:birthdate, \n",
    "       $1:salary, \n",
    "       $1:title, \n",
    "       $1:comments\n",
    "FROM emp_avro;\n",
    "\n",
    "// now we can create a new table with the above columns and load the data into that table using insert statement, but if an error occurs, the insert job will fail and we won't be able to leveraget he on_error parameter we use in the copy command.\n",
    "\n",
    "// Method 2 for copying unstructured data from s3 to snowflake\n",
    "\n",
    "// create a temporary stagging area\n",
    "create or replace temp stage demo_db.public.mystage;\n",
    "list '@demo_db.public.mystage';\n",
    "create or replace file format my_avro\n",
    "type = 'AVRO';\n",
    "\n",
    "// load the data into that stagging area from s3 using the copy command\n",
    "COPY INTO @demo_db.public.mystage FROM\n",
    "(\n",
    "SELECT $1:registration_dttm, \n",
    "       $1:id, \n",
    "       $1:first_name, \n",
    "       $1:last_name, \n",
    "       $1:email, \n",
    "       $1:gender, \n",
    "       $1:ip_address, \n",
    "       $1:cc, \n",
    "       $1:country, \n",
    "       $1:birthdate, \n",
    "       $1:salary, \n",
    "       $1:title, \n",
    "       $1:comments\n",
    "FROM '@DEMO_DB.EXTERNAL_STAGES.S3_STG2/sp_avro'\n",
    "(file_format => 'my_avro')\n",
    ")\n",
    "file_format = (type = 'csv');\n",
    "\n",
    "// create a table to store the details\n",
    "CREATE TABLE emp_details_avro\n",
    "(\n",
    "    REGISTRATION_DTTM STRING,\n",
    "    ID STRING,\n",
    "    FIRST_NAME STRING,\n",
    "    LAST_NAME STRING,\n",
    "    EMAIL STRING,\n",
    "    GENDER STRING,\n",
    "    IP_ADDRESS STRING,\n",
    "    CC STRING,\n",
    "    COUNTRY STRING,\n",
    "    BIRTHDATE STRING,\n",
    "    SALARY STRING,\n",
    "    TITLE STRING,\n",
    "    COMMENTS STRING\n",
    ");\n",
    "\n",
    "// copy the data into the final table\n",
    "copy into emp_details_avro\n",
    "from '@demo_db.public.mystage'\n",
    "file_format = (type = 'CSV')\n",
    "ON_ERROR = CONTINUE;\n"
   ]
  },
  {
   "cell_type": "code",
   "execution_count": 1,
   "id": "bd7d0c26-0a03-4ae9-818b-d0afc1c5465b",
   "metadata": {},
   "outputs": [],
   "source": [
    "import code_library as cl\n",
    "import json\n",
    "from schema import src_stg_schema"
   ]
  },
  {
   "cell_type": "code",
   "execution_count": 2,
   "id": "5d24355c-6ad1-4f27-b897-4b50e3478f80",
   "metadata": {},
   "outputs": [],
   "source": [
    "session = cl.snowconnection(cl.connection_parameters)"
   ]
  },
  {
   "cell_type": "code",
   "execution_count": 3,
   "id": "05366474-3956-4aa8-a662-a50cce12c564",
   "metadata": {},
   "outputs": [
    {
     "data": {
      "text/plain": [
       "{'Database_name': 'DEMO_DB',\n",
       " 'Schema_name': 'PUBLIC',\n",
       " 'Target_table': 'EMP_DETAILS_AVRO_CLS',\n",
       " 'Reject_table': 'EMPLOYEE_AVRO_REJECTS',\n",
       " 'target_columns': ['REGISTRATION',\n",
       "  'USER_ID',\n",
       "  'FIRST_NAME',\n",
       "  'LAST_NAME',\n",
       "  'USER_EMAIL'],\n",
       " 'on_error': 'CONTINUE',\n",
       " 'Source_location': '@DEMO_DB.EXTERNAL_STAGES.S3_STG2/sp_avro/',\n",
       " 'Source_file_type': 'avro',\n",
       " 'map_columns': {'REGISTRATION_DTTM': 'REGISTRATION',\n",
       "  'ID': 'USER_ID',\n",
       "  'FIRST_NAME': 'FIRST_NAME',\n",
       "  'LAST_NAME': 'LAST_NAME',\n",
       "  'EMAIL': 'USER_EMAIL'}}"
      ]
     },
     "execution_count": 3,
     "metadata": {},
     "output_type": "execute_result"
    }
   ],
   "source": [
    "config_snow_copy = open('config_files/copy_to_snowstg_avro_v1.json')\n",
    "config_snow_copy = json.loads(config_snow_copy.read())\n",
    "config_snow_copy"
   ]
  },
  {
   "cell_type": "code",
   "execution_count": 4,
   "id": "74fbe59f-992f-4aa8-b1d9-16ae5f8b6796",
   "metadata": {},
   "outputs": [
    {
     "name": "stdout",
     "output_type": "stream",
     "text": [
      "Dropped column, GENDER\n",
      "Dropped column, IP_ADDRESS\n",
      "Dropped column, CC\n",
      "Dropped column, COUNTRY\n",
      "Dropped column, BIRTHDATE\n",
      "Dropped column, SALARY\n",
      "Dropped column, TITLE\n",
      "Dropped column, COMMENTS\n"
     ]
    }
   ],
   "source": [
    "copied_into_result, qid = cl.copy_to_table_semi_struct_data(session,config_snow_copy,src_stg_schema.emp_details_avro_cls)"
   ]
  },
  {
   "cell_type": "code",
   "execution_count": 5,
   "id": "9f6e6278-66a5-4d5b-a0a3-bce965ac41f3",
   "metadata": {},
   "outputs": [
    {
     "data": {
      "text/plain": [
       "[Row(file='mystage/EMP_DETAILS_AVRO_CLS/data_0_0_0.csv.gz', status='LOADED', rows_parsed=1000, rows_loaded=1000, error_limit=1000, errors_seen=0, first_error=None, first_error_line=None, first_error_character=None, first_error_column_name=None)]"
      ]
     },
     "execution_count": 5,
     "metadata": {},
     "output_type": "execute_result"
    }
   ],
   "source": [
    "copied_into_result"
   ]
  },
  {
   "cell_type": "code",
   "execution_count": null,
   "id": "c396ef94-d8af-401d-aab2-4e8affec88a8",
   "metadata": {},
   "outputs": [],
   "source": []
  }
 ],
 "metadata": {
  "kernelspec": {
   "display_name": "Python 3 (ipykernel)",
   "language": "python",
   "name": "python3"
  },
  "language_info": {
   "codemirror_mode": {
    "name": "ipython",
    "version": 3
   },
   "file_extension": ".py",
   "mimetype": "text/x-python",
   "name": "python",
   "nbconvert_exporter": "python",
   "pygments_lexer": "ipython3",
   "version": "3.9.16"
  }
 },
 "nbformat": 4,
 "nbformat_minor": 5
}
