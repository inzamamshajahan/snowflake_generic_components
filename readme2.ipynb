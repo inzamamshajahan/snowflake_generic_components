{
 "cells": [
  {
   "cell_type": "markdown",
   "id": "bcb0eec5-914f-4f91-9b56-e261dadded08",
   "metadata": {},
   "source": [
    "# The following page has instructions on Setting Up Your Development Environment for Snowpark Python\n",
    "https://docs.snowflake.com/en/developer-guide/snowpark/python/setup\n"
   ]
  },
  {
   "cell_type": "code",
   "execution_count": 1,
   "id": "9102862d-a5ff-4499-9df8-bce62025e85f",
   "metadata": {},
   "outputs": [
    {
     "name": "stdout",
     "output_type": "stream",
     "text": [
      "/home/ec2-user/environment/venv/bin/python\n"
     ]
    }
   ],
   "source": [
    "import sys\n",
    "print(sys.executable)"
   ]
  },
  {
   "cell_type": "code",
   "execution_count": 2,
   "id": "6e0a2a64-e47a-4c6d-8931-8b58851a692e",
   "metadata": {},
   "outputs": [
    {
     "name": "stdout",
     "output_type": "stream",
     "text": [
      "Python 3.9.16\n"
     ]
    }
   ],
   "source": [
    "! python --version"
   ]
  },
  {
   "cell_type": "code",
   "execution_count": 3,
   "id": "c3cee3b3-5fdb-41ab-bd60-22fd7189d983",
   "metadata": {},
   "outputs": [
    {
     "name": "stdout",
     "output_type": "stream",
     "text": [
      "Requirement already satisfied: pip in /home/ec2-user/environment/venv/lib/python3.9/site-packages (24.0)\n",
      "Collecting install\n",
      "  Downloading install-1.3.5-py3-none-any.whl.metadata (925 bytes)\n",
      "Collecting snowflake-snowpark-python==1.5.0\n",
      "  Downloading snowflake_snowpark_python-1.5.0-py3-none-any.whl.metadata (38 kB)\n",
      "Requirement already satisfied: setuptools>=40.6.0 in /home/ec2-user/environment/venv/lib/python3.9/site-packages (from snowflake-snowpark-python==1.5.0) (69.5.1)\n",
      "Requirement already satisfied: wheel in /home/ec2-user/environment/venv/lib/python3.9/site-packages (from snowflake-snowpark-python==1.5.0) (0.43.0)\n",
      "Collecting cloudpickle<=2.0.0,>=1.6.0 (from snowflake-snowpark-python==1.5.0)\n",
      "  Downloading cloudpickle-2.0.0-py3-none-any.whl.metadata (6.9 kB)\n",
      "Collecting snowflake-connector-python<4.0.0,>=2.7.12 (from snowflake-snowpark-python==1.5.0)\n",
      "  Downloading snowflake_connector_python-3.10.1-cp39-cp39-manylinux_2_17_x86_64.manylinux2014_x86_64.whl.metadata (62 kB)\n",
      "\u001b[2K     \u001b[90m━━━━━━━━━━━━━━━━━━━━━━━━━━━━━━━━━━━━━━━━\u001b[0m \u001b[32m62.6/62.6 kB\u001b[0m \u001b[31m8.3 MB/s\u001b[0m eta \u001b[36m0:00:00\u001b[0m\n",
      "\u001b[?25hRequirement already satisfied: typing-extensions<5.0.0,>=4.1.0 in /home/ec2-user/environment/venv/lib/python3.9/site-packages (from snowflake-snowpark-python==1.5.0) (4.12.2)\n",
      "Collecting asn1crypto<2.0.0,>0.24.0 (from snowflake-connector-python<4.0.0,>=2.7.12->snowflake-snowpark-python==1.5.0)\n",
      "  Downloading asn1crypto-1.5.1-py2.py3-none-any.whl.metadata (13 kB)\n",
      "Requirement already satisfied: cffi<2.0.0,>=1.9 in /home/ec2-user/environment/venv/lib64/python3.9/site-packages (from snowflake-connector-python<4.0.0,>=2.7.12->snowflake-snowpark-python==1.5.0) (1.16.0)\n",
      "Collecting cryptography<43.0.0,>=3.1.0 (from snowflake-connector-python<4.0.0,>=2.7.12->snowflake-snowpark-python==1.5.0)\n",
      "  Downloading cryptography-42.0.8-cp39-abi3-manylinux_2_28_x86_64.whl.metadata (5.3 kB)\n",
      "Collecting pyOpenSSL<25.0.0,>=16.2.0 (from snowflake-connector-python<4.0.0,>=2.7.12->snowflake-snowpark-python==1.5.0)\n",
      "  Downloading pyOpenSSL-24.1.0-py3-none-any.whl.metadata (12 kB)\n",
      "Collecting pyjwt<3.0.0 (from snowflake-connector-python<4.0.0,>=2.7.12->snowflake-snowpark-python==1.5.0)\n",
      "  Downloading PyJWT-2.8.0-py3-none-any.whl.metadata (4.2 kB)\n",
      "Collecting pytz (from snowflake-connector-python<4.0.0,>=2.7.12->snowflake-snowpark-python==1.5.0)\n",
      "  Downloading pytz-2024.1-py2.py3-none-any.whl.metadata (22 kB)\n",
      "Requirement already satisfied: requests<3.0.0 in /home/ec2-user/environment/venv/lib/python3.9/site-packages (from snowflake-connector-python<4.0.0,>=2.7.12->snowflake-snowpark-python==1.5.0) (2.32.3)\n",
      "Requirement already satisfied: packaging in /home/ec2-user/environment/venv/lib/python3.9/site-packages (from snowflake-connector-python<4.0.0,>=2.7.12->snowflake-snowpark-python==1.5.0) (24.0)\n",
      "Requirement already satisfied: charset-normalizer<4,>=2 in /home/ec2-user/environment/venv/lib64/python3.9/site-packages (from snowflake-connector-python<4.0.0,>=2.7.12->snowflake-snowpark-python==1.5.0) (3.3.2)\n",
      "Requirement already satisfied: idna<4,>=2.5 in /home/ec2-user/environment/venv/lib/python3.9/site-packages (from snowflake-connector-python<4.0.0,>=2.7.12->snowflake-snowpark-python==1.5.0) (3.7)\n",
      "Requirement already satisfied: certifi>=2017.4.17 in /home/ec2-user/environment/venv/lib/python3.9/site-packages (from snowflake-connector-python<4.0.0,>=2.7.12->snowflake-snowpark-python==1.5.0) (2024.6.2)\n",
      "Collecting filelock<4,>=3.5 (from snowflake-connector-python<4.0.0,>=2.7.12->snowflake-snowpark-python==1.5.0)\n",
      "  Downloading filelock-3.14.0-py3-none-any.whl.metadata (2.8 kB)\n",
      "Collecting sortedcontainers>=2.4.0 (from snowflake-connector-python<4.0.0,>=2.7.12->snowflake-snowpark-python==1.5.0)\n",
      "  Downloading sortedcontainers-2.4.0-py2.py3-none-any.whl.metadata (10 kB)\n",
      "Requirement already satisfied: platformdirs<5.0.0,>=2.6.0 in /home/ec2-user/environment/venv/lib/python3.9/site-packages (from snowflake-connector-python<4.0.0,>=2.7.12->snowflake-snowpark-python==1.5.0) (4.2.2)\n",
      "Collecting tomlkit (from snowflake-connector-python<4.0.0,>=2.7.12->snowflake-snowpark-python==1.5.0)\n",
      "  Downloading tomlkit-0.12.5-py3-none-any.whl.metadata (2.7 kB)\n",
      "Collecting urllib3<2.0.0,>=1.21.1 (from snowflake-connector-python<4.0.0,>=2.7.12->snowflake-snowpark-python==1.5.0)\n",
      "  Downloading urllib3-1.26.18-py2.py3-none-any.whl.metadata (48 kB)\n",
      "\u001b[2K     \u001b[90m━━━━━━━━━━━━━━━━━━━━━━━━━━━━━━━━━━━━━━━━\u001b[0m \u001b[32m48.9/48.9 kB\u001b[0m \u001b[31m8.8 MB/s\u001b[0m eta \u001b[36m0:00:00\u001b[0m\n",
      "\u001b[?25hRequirement already satisfied: pycparser in /home/ec2-user/environment/venv/lib/python3.9/site-packages (from cffi<2.0.0,>=1.9->snowflake-connector-python<4.0.0,>=2.7.12->snowflake-snowpark-python==1.5.0) (2.22)\n",
      "Downloading snowflake_snowpark_python-1.5.0-py3-none-any.whl (291 kB)\n",
      "\u001b[2K   \u001b[90m━━━━━━━━━━━━━━━━━━━━━━━━━━━━━━━━━━━━━━━━\u001b[0m \u001b[32m291.7/291.7 kB\u001b[0m \u001b[31m32.7 MB/s\u001b[0m eta \u001b[36m0:00:00\u001b[0m\n",
      "\u001b[?25hDownloading install-1.3.5-py3-none-any.whl (3.2 kB)\n",
      "Downloading cloudpickle-2.0.0-py3-none-any.whl (25 kB)\n",
      "Downloading snowflake_connector_python-3.10.1-cp39-cp39-manylinux_2_17_x86_64.manylinux2014_x86_64.whl (2.5 MB)\n",
      "\u001b[2K   \u001b[90m━━━━━━━━━━━━━━━━━━━━━━━━━━━━━━━━━━━━━━━━\u001b[0m \u001b[32m2.5/2.5 MB\u001b[0m \u001b[31m114.1 MB/s\u001b[0m eta \u001b[36m0:00:00\u001b[0m\n",
      "\u001b[?25hDownloading asn1crypto-1.5.1-py2.py3-none-any.whl (105 kB)\n",
      "\u001b[2K   \u001b[90m━━━━━━━━━━━━━━━━━━━━━━━━━━━━━━━━━━━━━━━━\u001b[0m \u001b[32m105.0/105.0 kB\u001b[0m \u001b[31m21.8 MB/s\u001b[0m eta \u001b[36m0:00:00\u001b[0m\n",
      "\u001b[?25hDownloading cryptography-42.0.8-cp39-abi3-manylinux_2_28_x86_64.whl (3.9 MB)\n",
      "\u001b[2K   \u001b[90m━━━━━━━━━━━━━━━━━━━━━━━━━━━━━━━━━━━━━━━━\u001b[0m \u001b[32m3.9/3.9 MB\u001b[0m \u001b[31m127.9 MB/s\u001b[0m eta \u001b[36m0:00:00\u001b[0m\n",
      "\u001b[?25hDownloading filelock-3.14.0-py3-none-any.whl (12 kB)\n",
      "Downloading PyJWT-2.8.0-py3-none-any.whl (22 kB)\n",
      "Downloading pyOpenSSL-24.1.0-py3-none-any.whl (56 kB)\n",
      "\u001b[2K   \u001b[90m━━━━━━━━━━━━━━━━━━━━━━━━━━━━━━━━━━━━━━━━\u001b[0m \u001b[32m56.9/56.9 kB\u001b[0m \u001b[31m12.1 MB/s\u001b[0m eta \u001b[36m0:00:00\u001b[0m\n",
      "\u001b[?25hDownloading sortedcontainers-2.4.0-py2.py3-none-any.whl (29 kB)\n",
      "Downloading urllib3-1.26.18-py2.py3-none-any.whl (143 kB)\n",
      "\u001b[2K   \u001b[90m━━━━━━━━━━━━━━━━━━━━━━━━━━━━━━━━━━━━━━━━\u001b[0m \u001b[32m143.8/143.8 kB\u001b[0m \u001b[31m27.0 MB/s\u001b[0m eta \u001b[36m0:00:00\u001b[0m\n",
      "\u001b[?25hDownloading pytz-2024.1-py2.py3-none-any.whl (505 kB)\n",
      "\u001b[2K   \u001b[90m━━━━━━━━━━━━━━━━━━━━━━━━━━━━━━━━━━━━━━━━\u001b[0m \u001b[32m505.5/505.5 kB\u001b[0m \u001b[31m69.7 MB/s\u001b[0m eta \u001b[36m0:00:00\u001b[0m\n",
      "\u001b[?25hDownloading tomlkit-0.12.5-py3-none-any.whl (37 kB)\n",
      "Installing collected packages: sortedcontainers, pytz, asn1crypto, urllib3, tomlkit, pyjwt, install, filelock, cloudpickle, cryptography, pyOpenSSL, snowflake-connector-python, snowflake-snowpark-python\n",
      "  Attempting uninstall: urllib3\n",
      "    Found existing installation: urllib3 2.2.1\n",
      "    Uninstalling urllib3-2.2.1:\n",
      "      Successfully uninstalled urllib3-2.2.1\n",
      "Successfully installed asn1crypto-1.5.1 cloudpickle-2.0.0 cryptography-42.0.8 filelock-3.14.0 install-1.3.5 pyOpenSSL-24.1.0 pyjwt-2.8.0 pytz-2024.1 snowflake-connector-python-3.10.1 snowflake-snowpark-python-1.5.0 sortedcontainers-2.4.0 tomlkit-0.12.5 urllib3-1.26.18\n"
     ]
    }
   ],
   "source": [
    "!pip install pip install snowflake-snowpark-python==1.5.0"
   ]
  },
  {
   "cell_type": "code",
   "execution_count": 7,
   "id": "317fea19-d95c-4e65-b6e4-7b0e45935da5",
   "metadata": {},
   "outputs": [],
   "source": [
    "from dotenv import dotenv_values\n",
    "import os\n",
    "import snowflake.snowpark.functions\n",
    "from snowflake.snowpark import Session\n",
    "from snowflake.snowpark.functions import col"
   ]
  },
  {
   "cell_type": "code",
   "execution_count": 29,
   "id": "ffdd899e-48c0-4f9b-b27e-f571e21b44b6",
   "metadata": {},
   "outputs": [],
   "source": [
    "secrets = dotenv_values(\".env\")"
   ]
  },
  {
   "cell_type": "code",
   "execution_count": 30,
   "id": "a07321ca-e3bc-4abc-b553-abfc200529b1",
   "metadata": {},
   "outputs": [],
   "source": [
    "connection_parameters = {\n",
    "\"account\":secrets['account'], \n",
    "\"user\":secrets['user'], \n",
    "\"password\": secrets['password'], \n",
    "\"role\":secrets['role'], \n",
    "\"warehouse\":\"COMPUTE_WH\", \n",
    "\"database\":\"DEMO_DB\", \n",
    "\"schema\":\"PUBLIC\" \n",
    "}"
   ]
  },
  {
   "cell_type": "code",
   "execution_count": 31,
   "id": "4cadc0f5-1886-45e3-8dc6-f2169b076496",
   "metadata": {},
   "outputs": [
    {
     "name": "stdout",
     "output_type": "stream",
     "text": [
      "OrderedDict([('account', 'znfbyid-dv25735'), ('user', 'inzamam'), ('password', 'Inzamam@12345'), ('role', 'ACCOUNTADMIN'), ('warehouse', 'COMPUTE_WH'), ('database', 'DEMO_DB'), ('schema', 'PUBLIC')])\n"
     ]
    }
   ],
   "source": [
    "print(secrets)"
   ]
  },
  {
   "cell_type": "code",
   "execution_count": 32,
   "id": "156f8359-5411-4d67-883c-ec1c3eea7e01",
   "metadata": {},
   "outputs": [],
   "source": [
    "test_session = Session.builder.configs(connection_parameters).create()"
   ]
  },
  {
   "cell_type": "code",
   "execution_count": 34,
   "id": "0459d542-c3f3-4022-97b7-1feb82f548ce",
   "metadata": {},
   "outputs": [
    {
     "name": "stdout",
     "output_type": "stream",
     "text": [
      "[Row(CURRENT_WAREHOUSE()='COMPUTE_WH', CURRENT_DATABASE()='DEMO_DB', CURRENT_SCHEMA()='PUBLIC')]\n"
     ]
    }
   ],
   "source": [
    "print(test_session.sql(\"select current_warehouse(), current_database(), current_schema()\").collect())"
   ]
  }
 ],
 "metadata": {
  "kernelspec": {
   "display_name": "Python 3 (ipykernel)",
   "language": "python",
   "name": "python3"
  },
  "language_info": {
   "codemirror_mode": {
    "name": "ipython",
    "version": 3
   },
   "file_extension": ".py",
   "mimetype": "text/x-python",
   "name": "python",
   "nbconvert_exporter": "python",
   "pygments_lexer": "ipython3",
   "version": "3.9.16"
  }
 },
 "nbformat": 4,
 "nbformat_minor": 5
}
