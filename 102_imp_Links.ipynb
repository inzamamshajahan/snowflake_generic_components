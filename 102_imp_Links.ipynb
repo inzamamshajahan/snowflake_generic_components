{
 "cells": [
  {
   "cell_type": "markdown",
   "id": "5a690f47-1b90-4569-aa4d-b20b678aa876",
   "metadata": {},
   "source": [
    "# The following page has instructions on Setting Up Your Development Environment for Snowpark Python\n",
    "https://docs.snowflake.com/en/developer-guide/snowpark/python/setup\n",
    "\n",
    "# Copy into dataframe link: \n",
    "https://docs.snowflake.com/en/developer-guide/snowpark/reference/python/1.5.0/api/snowflake.snowpark.DataFrame.copy_into_table\n",
    "\n"
   ]
  }
 ],
 "metadata": {
  "kernelspec": {
   "display_name": "Python 3 (ipykernel)",
   "language": "python",
   "name": "python3"
  },
  "language_info": {
   "codemirror_mode": {
    "name": "ipython",
    "version": 3
   },
   "file_extension": ".py",
   "mimetype": "text/x-python",
   "name": "python",
   "nbconvert_exporter": "python",
   "pygments_lexer": "ipython3",
   "version": "3.9.16"
  }
 },
 "nbformat": 4,
 "nbformat_minor": 5
}
