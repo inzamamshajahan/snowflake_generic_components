{
 "cells": [
  {
   "cell_type": "markdown",
   "id": "59cc3a76-c1ad-4b8f-967d-effbef2bb99d",
   "metadata": {},
   "source": [
    "# def snowconnection(connection_config)\n",
    "\n",
    "        > It should create a connection\n",
    "        > It should create a table with session_id, user_name, warehouse and role"
   ]
  }
 ],
 "metadata": {
  "kernelspec": {
   "display_name": "Python 3 (ipykernel)",
   "language": "python",
   "name": "python3"
  },
  "language_info": {
   "codemirror_mode": {
    "name": "ipython",
    "version": 3
   },
   "file_extension": ".py",
   "mimetype": "text/x-python",
   "name": "python",
   "nbconvert_exporter": "python",
   "pygments_lexer": "ipython3",
   "version": "3.9.16"
  }
 },
 "nbformat": 4,
 "nbformat_minor": 5
}
