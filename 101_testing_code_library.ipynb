{
 "cells": [
  {
   "cell_type": "code",
   "execution_count": 1,
   "id": "731faa5f-dbf3-44dd-a139-3c7d462633d4",
   "metadata": {},
   "outputs": [],
   "source": [
    "import code_library as cl\n",
    "from dotenv import dotenv_values"
   ]
  },
  {
   "cell_type": "code",
   "execution_count": 2,
   "id": "ab4e598e-24b2-4dd1-bc6c-a817ab9b505e",
   "metadata": {},
   "outputs": [
    {
     "name": "stdout",
     "output_type": "stream",
     "text": [
      "Requirement already satisfied: pandas in /home/ec2-user/environment/venv/lib64/python3.9/site-packages (2.2.2)\n",
      "Requirement already satisfied: numpy>=1.22.4 in /home/ec2-user/environment/venv/lib64/python3.9/site-packages (from pandas) (1.26.4)\n",
      "Requirement already satisfied: python-dateutil>=2.8.2 in /home/ec2-user/environment/venv/lib/python3.9/site-packages (from pandas) (2.9.0.post0)\n",
      "Requirement already satisfied: pytz>=2020.1 in /home/ec2-user/environment/venv/lib/python3.9/site-packages (from pandas) (2024.1)\n",
      "Requirement already satisfied: tzdata>=2022.7 in /home/ec2-user/environment/venv/lib/python3.9/site-packages (from pandas) (2024.1)\n",
      "Requirement already satisfied: six>=1.5 in /home/ec2-user/environment/venv/lib/python3.9/site-packages (from python-dateutil>=2.8.2->pandas) (1.16.0)\n"
     ]
    }
   ],
   "source": [
    "! pip install pandas "
   ]
  },
  {
   "cell_type": "code",
   "execution_count": 3,
   "id": "a414a1e4-5b6f-46a6-a7e4-51dfbabc1ca4",
   "metadata": {},
   "outputs": [],
   "source": [
    "secrets = dotenv_values(\".env\")"
   ]
  },
  {
   "cell_type": "code",
   "execution_count": 4,
   "id": "4a72f63c-4529-4133-bce2-d43ac538d2a9",
   "metadata": {},
   "outputs": [],
   "source": [
    "connection_parameters = {\n",
    "\"account\":secrets['account'], \n",
    "\"user\":secrets['user'], \n",
    "\"password\": secrets['password'], \n",
    "\"role\":secrets['role'], \n",
    "\"warehouse\":\"COMPUTE_WH\", \n",
    "\"database\":\"DEMO_DB\", \n",
    "\"schema\":\"PUBLIC\" \n",
    "}"
   ]
  },
  {
   "cell_type": "code",
   "execution_count": 5,
   "id": "48690d65-2295-4b5b-9b24-eee9c4e84bcc",
   "metadata": {},
   "outputs": [],
   "source": [
    "session = cl.snowconnection(connection_parameters)"
   ]
  }
 ],
 "metadata": {
  "kernelspec": {
   "display_name": "Python 3 (ipykernel)",
   "language": "python",
   "name": "python3"
  },
  "language_info": {
   "codemirror_mode": {
    "name": "ipython",
    "version": 3
   },
   "file_extension": ".py",
   "mimetype": "text/x-python",
   "name": "python",
   "nbconvert_exporter": "python",
   "pygments_lexer": "ipython3",
   "version": "3.9.16"
  }
 },
 "nbformat": 4,
 "nbformat_minor": 5
}
