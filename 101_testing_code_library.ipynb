{
 "cells": [
  {
   "cell_type": "code",
   "execution_count": 1,
   "id": "731faa5f-dbf3-44dd-a139-3c7d462633d4",
   "metadata": {},
   "outputs": [],
   "source": [
    "import code_library as cl\n",
    "from dotenv import dotenv_values"
   ]
  },
  {
   "cell_type": "code",
   "execution_count": 2,
   "id": "ab4e598e-24b2-4dd1-bc6c-a817ab9b505e",
   "metadata": {},
   "outputs": [
    {
     "name": "stdout",
     "output_type": "stream",
     "text": [
      "Requirement already satisfied: pandas in /home/ec2-user/environment/venv/lib64/python3.9/site-packages (2.2.2)\n",
      "Requirement already satisfied: numpy>=1.22.4 in /home/ec2-user/environment/venv/lib64/python3.9/site-packages (from pandas) (1.26.4)\n",
      "Requirement already satisfied: python-dateutil>=2.8.2 in /home/ec2-user/environment/venv/lib/python3.9/site-packages (from pandas) (2.9.0.post0)\n",
      "Requirement already satisfied: pytz>=2020.1 in /home/ec2-user/environment/venv/lib/python3.9/site-packages (from pandas) (2024.1)\n",
      "Requirement already satisfied: tzdata>=2022.7 in /home/ec2-user/environment/venv/lib/python3.9/site-packages (from pandas) (2024.1)\n",
      "Requirement already satisfied: six>=1.5 in /home/ec2-user/environment/venv/lib/python3.9/site-packages (from python-dateutil>=2.8.2->pandas) (1.16.0)\n"
     ]
    }
   ],
   "source": [
    "! pip install pandas "
   ]
  },
  {
   "cell_type": "code",
   "execution_count": 3,
   "id": "a414a1e4-5b6f-46a6-a7e4-51dfbabc1ca4",
   "metadata": {},
   "outputs": [],
   "source": [
    "secrets = dotenv_values(\".env\")"
   ]
  },
  {
   "cell_type": "code",
   "execution_count": 4,
   "id": "4a72f63c-4529-4133-bce2-d43ac538d2a9",
   "metadata": {},
   "outputs": [],
   "source": [
    "connection_parameters = {\n",
    "\"account\":secrets['account'], \n",
    "\"user\":secrets['user'], \n",
    "\"password\": secrets['password'], \n",
    "\"role\":secrets['role'], \n",
    "\"warehouse\":\"COMPUTE_WH\", \n",
    "\"database\":\"DEMO_DB\", \n",
    "\"schema\":\"PUBLIC\" \n",
    "}"
   ]
  },
  {
   "cell_type": "code",
   "execution_count": 5,
   "id": "48690d65-2295-4b5b-9b24-eee9c4e84bcc",
   "metadata": {},
   "outputs": [],
   "source": [
    "session = cl.snowconnection(connection_parameters)"
   ]
  },
  {
   "cell_type": "markdown",
   "id": "29cb74e9-3478-44bb-93ea-14d0c444f6c5",
   "metadata": {},
   "source": [
    "## Testing the second function, copy_into_table"
   ]
  },
  {
   "cell_type": "code",
   "execution_count": null,
   "id": "4effb7a6-171b-4618-9100-4a19f620a914",
   "metadata": {},
   "outputs": [],
   "source": [
    "config_file = {\"Database_name\":\"DEMO_DB\",\\\n",
    "\"Schema_name\":\"PUBLIC\",\n",
    "\"Target_table\":\"EMPLOYEE\",\n",
    "\"Reject_table\":\"EMPLOYEE_REJECTS\",\n",
    "\"target_columns\":[\"FIRST_NAME\",\"LAST_NAME\",\"EMAIL\",\"ADDRESS\",\"CITY\",\"DOJ\"],\n",
    "\"on_error\":\"CONTINUE\",\n",
    "\"Source_location\":\"@s3_stg/employee/\",\n",
    "\"Source_file_type\":\"csv\"\n",
    "}"
   ]
  },
  {
   "cell_type": "code",
   "execution_count": null,
   "id": "98b437c5-b965-40bb-8f77-9b898eb81a98",
   "metadata": {},
   "outputs": [],
   "source": [
    "def copy_to_table(session,config_file,schema='NA'):\n",
    "    database_name = config_file.get(\"Database_name\")\n",
    "    Schema_name = config_file.get(\"Schema_name\")\n",
    "    Target_table = config_file.get(\"Target_table\")\n",
    "    target_columns = config_file.get(\"target_columns\")\n",
    "    on_error = config_file.get(\"on_error\")\n",
    "    Source_location = config_file.get(\"Source_location\")\n",
    "\n",
    "    if config_file.get(\"Source_file_type\") == 'csv':\n",
    "            schema = schema\n",
    "            df = session.read.schema(schema).csv(\"'\"+Source_location+\"'\")\n",
    "        \n",
    "    with session.query_history() as query_history:\n",
    "        copied_into_result = df.copy_into_table(database_name+\".\"+Schema_name+\".\"+Target_table, target_columns=target_columns,force=True,on_error=on_error)\n",
    "    query = query_history.queries\n",
    "    # Mention command to collect query id of copy command executed.\n",
    "    for id in query:\n",
    "        if \"COPY\" in id.sql_text:\n",
    "            qid = id.query_id\n",
    "    return copied_into_result, qid"
   ]
  }
 ],
 "metadata": {
  "kernelspec": {
   "display_name": "Python 3 (ipykernel)",
   "language": "python",
   "name": "python3"
  },
  "language_info": {
   "codemirror_mode": {
    "name": "ipython",
    "version": 3
   },
   "file_extension": ".py",
   "mimetype": "text/x-python",
   "name": "python",
   "nbconvert_exporter": "python",
   "pygments_lexer": "ipython3",
   "version": "3.9.16"
  }
 },
 "nbformat": 4,
 "nbformat_minor": 5
}
