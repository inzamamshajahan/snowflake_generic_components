{
 "cells": [
  {
   "cell_type": "code",
   "execution_count": 1,
   "id": "f6c08e5d-5472-479a-be75-b67379a9cfc5",
   "metadata": {},
   "outputs": [],
   "source": [
    "from dotenv import dotenv_values"
   ]
  },
  {
   "cell_type": "code",
   "execution_count": 5,
   "id": "2d6c6f57-d1de-44f6-9f44-5abd4bdfcc53",
   "metadata": {},
   "outputs": [],
   "source": [
    "secrets = dotenv_values(\".env\")"
   ]
  },
  {
   "cell_type": "code",
   "execution_count": 7,
   "id": "5350c228-4147-4a53-b75e-900faf6fc625",
   "metadata": {},
   "outputs": [
    {
     "ename": "KeyError",
     "evalue": "'account'",
     "output_type": "error",
     "traceback": [
      "\u001b[0;31m---------------------------------------------------------------------------\u001b[0m",
      "\u001b[0;31mKeyError\u001b[0m                                  Traceback (most recent call last)",
      "Cell \u001b[0;32mIn[7], line 1\u001b[0m\n\u001b[0;32m----> 1\u001b[0m \u001b[38;5;28mprint\u001b[39m(\u001b[43msecrets\u001b[49m\u001b[43m[\u001b[49m\u001b[38;5;124;43m\"\u001b[39;49m\u001b[38;5;124;43maccount\u001b[39;49m\u001b[38;5;124;43m\"\u001b[39;49m\u001b[43m]\u001b[49m)\n",
      "\u001b[0;31mKeyError\u001b[0m: 'account'"
     ]
    }
   ],
   "source": [
    "print(secrets[\"account\"])"
   ]
  },
  {
   "cell_type": "code",
   "execution_count": 6,
   "id": "e666e7d7-b4a9-4ae2-b3e0-71d82e0e3c44",
   "metadata": {},
   "outputs": [
    {
     "name": "stdout",
     "output_type": "stream",
     "text": [
      "OrderedDict([('ACCOUNT', 'znfbyid-dv25735'), ('USER', 'inzamam'), ('password', 'Inzamam@12345'), ('role', 'ACCOUNTADMIN'), ('warehouse', 'COMPUTE_WH'), ('database', 'DEMO_DB'), ('schema', 'PUBLIC')])\n"
     ]
    }
   ],
   "source": [
    "print(secrets)"
   ]
  },
  {
   "cell_type": "code",
   "execution_count": 13,
   "id": "fcf047bb-7e31-42f6-b280-e79c3379743f",
   "metadata": {},
   "outputs": [
    {
     "name": "stdout",
     "output_type": "stream",
     "text": [
      "None\n"
     ]
    }
   ],
   "source": [
    "print(secrets['account:znfbyid-dv25735'])"
   ]
  }
 ],
 "metadata": {
  "kernelspec": {
   "display_name": "Python 3 (ipykernel)",
   "language": "python",
   "name": "python3"
  },
  "language_info": {
   "codemirror_mode": {
    "name": "ipython",
    "version": 3
   },
   "file_extension": ".py",
   "mimetype": "text/x-python",
   "name": "python",
   "nbconvert_exporter": "python",
   "pygments_lexer": "ipython3",
   "version": "3.9.16"
  }
 },
 "nbformat": 4,
 "nbformat_minor": 5
}
