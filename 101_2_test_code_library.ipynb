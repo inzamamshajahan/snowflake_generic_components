{
 "cells": [
  {
   "cell_type": "code",
   "execution_count": 1,
   "id": "52c7e8c2-916b-4797-bff4-f7f3d03b3b6d",
   "metadata": {},
   "outputs": [],
   "source": [
    "import code_library as cl\n",
    "from dotenv import dotenv_values\n",
    "from snowflake.snowpark.types import IntegerType, StringType, StructField, StructType, DateType\n",
    "import json"
   ]
  },
  {
   "cell_type": "markdown",
   "id": "4825dde2-ab1c-4acc-a4b1-b8c77403c6f3",
   "metadata": {},
   "source": [
    "# Now we will try to keep the config file in a saperate file\n"
   ]
  },
  {
   "cell_type": "code",
   "execution_count": 2,
   "id": "23b3674b-7bee-4d48-8d6d-d75c97e0cd79",
   "metadata": {},
   "outputs": [],
   "source": [
    "config_snow_copy = open('config_files/copy_to_snowstg.json')"
   ]
  },
  {
   "cell_type": "code",
   "execution_count": 3,
   "id": "510f369d-cf81-4b27-89fa-d5f3d55f0d48",
   "metadata": {},
   "outputs": [
    {
     "data": {
      "text/plain": [
       "{'Database_name': 'DEMO_DB',\n",
       " 'Schema_name': 'PUBLIC',\n",
       " 'Target_table': 'EMPLOYEE',\n",
       " 'Reject_table': 'EMPLOYEE_REJECTS',\n",
       " 'target_columns': ['FIRST_NAME',\n",
       "  'LAST_NAME',\n",
       "  'EMAIL',\n",
       "  'ADDRESS',\n",
       "  'CITY',\n",
       "  'DOJ'],\n",
       " 'on_error': 'CONTINUE',\n",
       " 'Source_location': '@demo_db.external_stages.s3_stg/sp_csv/',\n",
       " 'Source_file_type': 'csv'}"
      ]
     },
     "execution_count": 3,
     "metadata": {},
     "output_type": "execute_result"
    }
   ],
   "source": [
    "config_snow_copy = json.loads(config_snow_copy.read())\n",
    "config_snow_copy"
   ]
  },
  {
   "cell_type": "code",
   "execution_count": 4,
   "id": "ce96d161-7bc3-4044-9332-dbe2446c4e83",
   "metadata": {},
   "outputs": [
    {
     "data": {
      "text/plain": [
       "dict"
      ]
     },
     "execution_count": 4,
     "metadata": {},
     "output_type": "execute_result"
    }
   ],
   "source": [
    "type(config_snow_copy)"
   ]
  },
  {
   "cell_type": "markdown",
   "id": "22c6e399-6eac-45ea-a11e-22620aa22ace",
   "metadata": {},
   "source": [
    "# Now we will keep the schema also in a saperate file"
   ]
  },
  {
   "cell_type": "code",
   "execution_count": 5,
   "id": "6f13df97-2798-48fe-a601-3ee201204d4e",
   "metadata": {},
   "outputs": [],
   "source": [
    "from schema import src_stg_schema"
   ]
  },
  {
   "cell_type": "code",
   "execution_count": 6,
   "id": "2b4c8e5b-5263-491b-a431-63e00d01e2a5",
   "metadata": {},
   "outputs": [],
   "source": [
    "session = cl.snowconnection(cl.connection_parameters)"
   ]
  },
  {
   "cell_type": "code",
   "execution_count": 7,
   "id": "c47cbbf1-eea3-4e4a-90bc-9bce8aace8d8",
   "metadata": {},
   "outputs": [],
   "source": [
    "copied_into_result, qid = cl.copy_to_table(session, config_snow_copy, src_stg_schema.emp_stg_schema)"
   ]
  },
  {
   "cell_type": "markdown",
   "id": "2d625696-7202-4c4c-ba9f-d0fed5843d41",
   "metadata": {},
   "source": [
    "# Testing if the collect rejects function is working properly or not"
   ]
  },
  {
   "cell_type": "code",
   "execution_count": 8,
   "id": "cbda39d2-49f0-47c0-94ec-936f3c822146",
   "metadata": {},
   "outputs": [],
   "source": [
    "rejects = cl.collect_rejects(session, qid,  config_snow_copy)"
   ]
  }
 ],
 "metadata": {
  "kernelspec": {
   "display_name": "Python 3 (ipykernel)",
   "language": "python",
   "name": "python3"
  },
  "language_info": {
   "codemirror_mode": {
    "name": "ipython",
    "version": 3
   },
   "file_extension": ".py",
   "mimetype": "text/x-python",
   "name": "python",
   "nbconvert_exporter": "python",
   "pygments_lexer": "ipython3",
   "version": "3.9.16"
  }
 },
 "nbformat": 4,
 "nbformat_minor": 5
}
