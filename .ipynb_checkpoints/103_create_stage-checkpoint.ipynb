{
 "cells": [
  {
   "cell_type": "markdown",
   "id": "3c159057-d6bb-4d36-8481-4f04251a1e8f",
   "metadata": {},
   "source": [
    "# Create an integration object so that we can access the AWS S3 Bucket.\n",
    "\n",
    "\n",
    "\n"
   ]
  },
  {
   "cell_type": "code",
   "execution_count": 38,
   "id": "44bce93c-d03c-4339-93da-0fc6b8380f11",
   "metadata": {},
   "outputs": [],
   "source": [
    "import code_library as cl\n",
    "from dotenv import dotenv_values"
   ]
  },
  {
   "cell_type": "code",
   "execution_count": 30,
   "id": "d89233e6-4d56-43e0-8777-fa538a7b4fa2",
   "metadata": {},
   "outputs": [],
   "source": [
    "session = cl.snowconnection(cl.connection_parameters)"
   ]
  },
  {
   "cell_type": "code",
   "execution_count": 31,
   "id": "ec893d32-54b9-4747-a11d-79b80f9305db",
   "metadata": {},
   "outputs": [
    {
     "name": "stdout",
     "output_type": "stream",
     "text": [
      "[Row(status='Integration S3_INT successfully created.')]\n"
     ]
    }
   ],
   "source": [
    "print(session.sql(\n",
    "    f\"\"\"\n",
    "  create or replace storage integration s3_int\n",
    "  TYPE = EXTERNAL_STAGE\n",
    "  STORAGE_PROVIDER = S3\n",
    "  ENABLED = TRUE \n",
    "  STORAGE_AWS_ROLE_ARN = '{cl.secrets['STORAGE_AWS_ROLE_ARN']}'\n",
    "  STORAGE_ALLOWED_LOCATIONS = ('{cl.secrets['s3_bucket_for_stg']}')\n",
    "  COMMENT = 'This is the integration object we are going to use to create the snowflake external stage' ;\n",
    "    \"\"\"\n",
    "    \n",
    "    ).collect())"
   ]
  },
  {
   "cell_type": "code",
   "execution_count": 33,
   "id": "e446483e-646b-42dc-a89a-0ad30259d556",
   "metadata": {},
   "outputs": [],
   "source": [
    "result = session.sql(\n",
    "    f\"\"\"\n",
    "        DESC integration s3_int;\n",
    "    \"\"\"\n",
    "    )"
   ]
  },
  {
   "cell_type": "code",
   "execution_count": 16,
   "id": "f092ca2c-d937-4c17-875f-44a298412071",
   "metadata": {},
   "outputs": [
    {
     "name": "stdout",
     "output_type": "stream",
     "text": [
      "<snowflake.snowpark.dataframe.DataFrame object at 0x7f80d7115b80>\n",
      "<class 'snowflake.snowpark.dataframe.DataFrame'>\n"
     ]
    }
   ],
   "source": [
    "print(result)\n",
    "print(type(result))\n",
    "# the below command is working, commenting it out to keep the secrets a secret :)\n",
    "# result.show()"
   ]
  },
  {
   "cell_type": "code",
   "execution_count": 44,
   "id": "b93318c3-5fdb-4ff1-935e-a66754a2333c",
   "metadata": {},
   "outputs": [
    {
     "name": "stdout",
     "output_type": "stream",
     "text": [
      "[Row(status='Statement executed successfully.')]\n"
     ]
    }
   ],
   "source": [
    "print(session.sql(\n",
    "    f\"\"\"\n",
    "    alter integration s3_int\n",
    "    set STORAGE_ALLOWED_LOCATIONS = ('s3://inzs3bucketlearn/');\n",
    "    \"\"\"\n",
    "    \n",
    "    ).collect())\n",
    "\n"
   ]
  },
  {
   "cell_type": "markdown",
   "id": "2d40b3fa-9763-438e-af58-c2904bd50af6",
   "metadata": {},
   "source": [
    "## Now add the storage_aws_iam_user_arn and STORAGE_AWS_EXTERNAL_ID in the trust policy of the aws role which was used while creating the integration object\n",
    "\n",
    "### below shows the trust policy of the role used while creating the integration object\n",
    "{\n",
    "\t\"Version\": \"2012-10-17\",\n",
    "\t\"Statement\": [\n",
    "\t\t{\n",
    "\t\t\t\"Effect\": \"Allow\",\n",
    "\t\t\t\"Principal\": {\n",
    "\t\t\t\t\"AWS\": \"<<add  storage_aws_iam_user_arn from snoflake here>>\"\n",
    "\t\t\t},\n",
    "\t\t\t\"Action\": \"sts:AssumeRole\",\n",
    "\t\t\t\"Condition\": {\n",
    "\t\t\t\t\"StringEquals\": {\n",
    "\t\t\t\t\t\"sts:ExternalId\": \"<< add STORAGE_AWS_EXTERNAL_ID here>>\"\n",
    "\t\t\t\t}\n",
    "\t\t\t}\n",
    "\t\t}\n",
    "\t]\n",
    "}"
   ]
  },
  {
   "cell_type": "code",
   "execution_count": 19,
   "id": "03f7938a-5a15-4a6c-a106-9840e10424e6",
   "metadata": {},
   "outputs": [
    {
     "name": "stdout",
     "output_type": "stream",
     "text": [
      "---------------------------------------------\n",
      "|\"status\"                                   |\n",
      "---------------------------------------------\n",
      "|Schema FILE_FORMATS successfully created.  |\n",
      "---------------------------------------------\n",
      "\n"
     ]
    }
   ],
   "source": [
    "# create a file format object\n",
    "result = session.sql(\n",
    "    f\"\"\"\n",
    "        CREATE OR REPLACE SCHEMA DEMO_DB.file_formats;\n",
    "    \"\"\"\n",
    "    )\n",
    "\n",
    "result.show()"
   ]
  },
  {
   "cell_type": "code",
   "execution_count": 20,
   "id": "79ef069a-a697-4dc6-8aec-db3c6ca32c46",
   "metadata": {},
   "outputs": [
    {
     "name": "stdout",
     "output_type": "stream",
     "text": [
      "----------------------------------------------------\n",
      "|\"status\"                                          |\n",
      "----------------------------------------------------\n",
      "|File format CSV_FILEFORMAT successfully created.  |\n",
      "----------------------------------------------------\n",
      "\n"
     ]
    }
   ],
   "source": [
    "# create a file format object\n",
    "result = session.sql(\n",
    "    f\"\"\"\n",
    "        CREATE OR REPLACE file format DEMO_DB.file_formats.csv_fileformat\n",
    "            type = csv\n",
    "            field_delimiter = ','\n",
    "            skip_header = 1\n",
    "            null_if = ('NULL','null')\n",
    "            empty_field_as_null = TRUE;\n",
    "    \"\"\"\n",
    "    )\n",
    "\n",
    "result.show()"
   ]
  },
  {
   "cell_type": "code",
   "execution_count": 22,
   "id": "53cdee07-0d3c-435b-95f5-9e4a8a1de0a3",
   "metadata": {},
   "outputs": [
    {
     "name": "stdout",
     "output_type": "stream",
     "text": [
      "------------------------------------------------\n",
      "|\"status\"                                      |\n",
      "------------------------------------------------\n",
      "|Schema EXTERNAL_STAGES successfully created.  |\n",
      "------------------------------------------------\n",
      "\n"
     ]
    }
   ],
   "source": [
    "# create a file format object\n",
    "result = session.sql(\n",
    "    f\"\"\"\n",
    "        CREATE OR REPLACE SCHEMA DEMO_DB.external_stages;\n",
    "    \"\"\"\n",
    "    )\n",
    "\n",
    "result.show()"
   ]
  },
  {
   "cell_type": "code",
   "execution_count": 43,
   "id": "4a3d224c-3c13-47b7-9e45-85deadd20ca6",
   "metadata": {},
   "outputs": [
    {
     "name": "stdout",
     "output_type": "stream",
     "text": [
      "-------------------------------------------\n",
      "|\"status\"                                 |\n",
      "-------------------------------------------\n",
      "|Stage area S3_STG successfully created.  |\n",
      "-------------------------------------------\n",
      "\n"
     ]
    }
   ],
   "source": [
    "# Create stage object with integration object & file format object\n",
    "\n",
    "\n",
    "result = session.sql(\n",
    "    f\"\"\"\n",
    "        CREATE OR REPLACE stage demo_db.external_stages.s3_stg\n",
    "            URL = {cl.secrets['s3_bucket_for_stg']}\n",
    "            STORAGE_INTEGRATION = s3_int\n",
    "            FILE_FORMAT = demo_db.file_formats.csv_fileformat;\n",
    "    \"\"\"\n",
    "    )\n",
    "\n",
    "result.show()\n",
    "\n"
   ]
  },
  {
   "cell_type": "code",
   "execution_count": 41,
   "id": "0e8773ec-77c3-44cd-bd9a-d30da8efa3c3",
   "metadata": {},
   "outputs": [
    {
     "name": "stdout",
     "output_type": "stream",
     "text": [
      "s3://inzs3bucket/\n"
     ]
    }
   ],
   "source": [
    "print(cl.secrets['s3_bucket_for_stg'])"
   ]
  },
  {
   "cell_type": "code",
   "execution_count": 35,
   "id": "d37bb9b0-67af-43e8-9ed3-d9eb0d138f42",
   "metadata": {},
   "outputs": [
    {
     "name": "stdout",
     "output_type": "stream",
     "text": [
      "-------------------------------------------------------------------------------------------------------------------------\n",
      "|\"parent_property\"   |\"property\"           |\"property_type\"  |\"property_value\"                     |\"property_default\"  |\n",
      "-------------------------------------------------------------------------------------------------------------------------\n",
      "|STAGE_FILE_FORMAT   |FORMAT_NAME          |String           |demo_db.file_formats.csv_fileformat  |                    |\n",
      "|STAGE_COPY_OPTIONS  |ON_ERROR             |String           |ABORT_STATEMENT                      |ABORT_STATEMENT     |\n",
      "|STAGE_COPY_OPTIONS  |SIZE_LIMIT           |Long             |                                     |                    |\n",
      "|STAGE_COPY_OPTIONS  |PURGE                |Boolean          |false                                |false               |\n",
      "|STAGE_COPY_OPTIONS  |RETURN_FAILED_ONLY   |Boolean          |false                                |false               |\n",
      "|STAGE_COPY_OPTIONS  |ENFORCE_LENGTH       |Boolean          |true                                 |true                |\n",
      "|STAGE_COPY_OPTIONS  |TRUNCATECOLUMNS      |Boolean          |false                                |false               |\n",
      "|STAGE_COPY_OPTIONS  |FORCE                |Boolean          |false                                |false               |\n",
      "|STAGE_LOCATION      |URL                  |String           |[\"s3://inzs3bucket/\"]                |                    |\n",
      "|STAGE_INTEGRATION   |STORAGE_INTEGRATION  |String           |S3_INT                               |                    |\n",
      "-------------------------------------------------------------------------------------------------------------------------\n",
      "\n"
     ]
    }
   ],
   "source": [
    "# describing the stage\n",
    "result = session.sql(\n",
    "    f\"\"\"\n",
    "        desc stage DEMO_DB.EXTERNAL_STAGES.S3_STG;\n",
    "    \"\"\"\n",
    "    )\n",
    "\n",
    "result.show()"
   ]
  },
  {
   "cell_type": "code",
   "execution_count": 45,
   "id": "8a3bff88-d9ac-49e8-ada7-bb80b50d3c5c",
   "metadata": {},
   "outputs": [
    {
     "name": "stdout",
     "output_type": "stream",
     "text": [
      "-------------------------------------------------------------------------------------------------------------------------------\n",
      "|\"name\"                                           |\"size\"  |\"md5\"                             |\"last_modified\"                |\n",
      "-------------------------------------------------------------------------------------------------------------------------------\n",
      "|s3://inzs3bucketlearn/sp_avro/userdata1.avro     |93561   |e60871d1105f230b90d5ae2f8d9481ce  |Wed, 21 Feb 2024 11:05:57 GMT  |\n",
      "|s3://inzs3bucketlearn/sp_csv/employee01.csv      |342     |8e77d4649e70c82d47e0d4d8b76a13ee  |Wed, 21 Feb 2024 11:08:40 GMT  |\n",
      "|s3://inzs3bucketlearn/sp_csv/employee02.csv      |391     |2ccf600775f9db9c78b49964cb5ff821  |Wed, 21 Feb 2024 11:08:41 GMT  |\n",
      "|s3://inzs3bucketlearn/sp_csv/employee03.csv      |408     |a3f1099a25248926a1d9fa32947ca289  |Wed, 21 Feb 2024 11:08:41 GMT  |\n",
      "|s3://inzs3bucketlearn/sp_csv/employee04.csv      |387     |9906f9f4449edb68f7570737d6999b3b  |Wed, 21 Feb 2024 11:08:42 GMT  |\n",
      "|s3://inzs3bucketlearn/sp_csv/employee05.csv      |402     |1303cbdef0e2f6c637c3e44979f8ef78  |Wed, 21 Feb 2024 11:08:43 GMT  |\n",
      "|s3://inzs3bucketlearn/sp_json/books1.json        |1372    |2c2f6e608a744510090007576af66e8e  |Wed, 21 Feb 2024 11:09:40 GMT  |\n",
      "|s3://inzs3bucketlearn/sp_orc/userdata1_orc       |47448   |1595b4de335ac1825af2b846e82fbf48  |Wed, 21 Feb 2024 11:06:21 GMT  |\n",
      "|s3://inzs3bucketlearn/sp_parc/userdata1.parquet  |113629  |2f67292983870c49f4ee50330c4f7b7f  |Wed, 21 Feb 2024 11:06:40 GMT  |\n",
      "-------------------------------------------------------------------------------------------------------------------------------\n",
      "\n"
     ]
    }
   ],
   "source": [
    "# listing the files to know if we are able to access the stage\n",
    "result = session.sql(\n",
    "    f\"\"\"\n",
    "        list @DEMO_DB.EXTERNAL_STAGES.S3_STG;\n",
    "    \"\"\"\n",
    "    )\n",
    "\n",
    "result.show()"
   ]
  }
 ],
 "metadata": {
  "kernelspec": {
   "display_name": "Python 3 (ipykernel)",
   "language": "python",
   "name": "python3"
  },
  "language_info": {
   "codemirror_mode": {
    "name": "ipython",
    "version": 3
   },
   "file_extension": ".py",
   "mimetype": "text/x-python",
   "name": "python",
   "nbconvert_exporter": "python",
   "pygments_lexer": "ipython3",
   "version": "3.9.16"
  }
 },
 "nbformat": 4,
 "nbformat_minor": 5
}
