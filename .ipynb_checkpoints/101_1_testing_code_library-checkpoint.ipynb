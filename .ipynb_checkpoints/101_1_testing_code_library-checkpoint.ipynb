{
 "cells": [
  {
   "cell_type": "code",
   "execution_count": 1,
   "id": "731faa5f-dbf3-44dd-a139-3c7d462633d4",
   "metadata": {},
   "outputs": [],
   "source": [
    "import code_library as cl\n",
    "from dotenv import dotenv_values\n",
    "from snowflake.snowpark.types import IntegerType, StringType, StructField, StructType, DateType"
   ]
  },
  {
   "cell_type": "code",
   "execution_count": 2,
   "id": "a414a1e4-5b6f-46a6-a7e4-51dfbabc1ca4",
   "metadata": {},
   "outputs": [],
   "source": [
    "secrets = dotenv_values(\".env\")"
   ]
  },
  {
   "cell_type": "code",
   "execution_count": 3,
   "id": "4a72f63c-4529-4133-bce2-d43ac538d2a9",
   "metadata": {},
   "outputs": [],
   "source": [
    "connection_parameters = {\n",
    "\"account\":secrets['account'], \n",
    "\"user\":secrets['user'], \n",
    "\"password\": secrets['password'], \n",
    "\"role\":secrets['role'], \n",
    "\"warehouse\":\"COMPUTE_WH\", \n",
    "\"database\":\"DEMO_DB\", \n",
    "\"schema\":\"PUBLIC\" \n",
    "}"
   ]
  },
  {
   "cell_type": "code",
   "execution_count": 4,
   "id": "48690d65-2295-4b5b-9b24-eee9c4e84bcc",
   "metadata": {},
   "outputs": [],
   "source": [
    "session = cl.snowconnection(connection_parameters)"
   ]
  },
  {
   "cell_type": "markdown",
   "id": "29cb74e9-3478-44bb-93ea-14d0c444f6c5",
   "metadata": {},
   "source": [
    "## Testing the second function, copy_into_table"
   ]
  },
  {
   "cell_type": "code",
   "execution_count": 5,
   "id": "4effb7a6-171b-4618-9100-4a19f620a914",
   "metadata": {},
   "outputs": [],
   "source": [
    "config_file = {\n",
    "\"Database_name\":\"DEMO_DB\",\n",
    "\"Schema_name\":\"PUBLIC\",\n",
    "\"Target_table\":\"EMPLOYEE\",\n",
    "\"Reject_table\":\"EMPLOYEE_REJECTS\",\n",
    "\"target_columns\":[\"FIRST_NAME\",\"LAST_NAME\",\"EMAIL\",\"ADDRESS\",\"CITY\",\"DOJ\"],\n",
    "\"on_error\":\"CONTINUE\",\n",
    "\"Source_location\":\"@demo_db.external_stages.s3_stg/sp_csv/\",\n",
    "\"Source_file_type\":\"csv\"\n",
    "}"
   ]
  },
  {
   "cell_type": "code",
   "execution_count": 6,
   "id": "f8595ba0-3f3f-4af5-a784-cd1a4a53b235",
   "metadata": {},
   "outputs": [],
   "source": [
    "# Declare schema for csv file and read data\n",
    "schema = StructType([StructField(\"FIRST_NAME\", StringType()),\n",
    "StructField(\"LAST_NAME\", StringType()),\n",
    "StructField(\"EMAIL\", StringType()),\n",
    "StructField(\"ADDRESS\", StringType()),\n",
    "StructField(\"CITY\", StringType()),\n",
    "StructField(\"DOJ\",DateType())])"
   ]
  },
  {
   "cell_type": "code",
   "execution_count": 7,
   "id": "af811d71-d9c6-4762-a8df-9c12111e76ef",
   "metadata": {},
   "outputs": [
    {
     "name": "stdout",
     "output_type": "stream",
     "text": [
      "Help on StructField in module snowflake.snowpark.types object:\n",
      "\n",
      "class StructField(builtins.object)\n",
      " |  StructField(column_identifier: Union[snowflake.snowpark.types.ColumnIdentifier, str], datatype: snowflake.snowpark.types.DataType, nullable: bool = True) -> None\n",
      " |  \n",
      " |  Represents the content of :class:`StructField`.\n",
      " |  \n",
      " |  Methods defined here:\n",
      " |  \n",
      " |  __eq__(self, other)\n",
      " |      Return self==value.\n",
      " |  \n",
      " |  __init__(self, column_identifier: Union[snowflake.snowpark.types.ColumnIdentifier, str], datatype: snowflake.snowpark.types.DataType, nullable: bool = True) -> None\n",
      " |      Initialize self.  See help(type(self)) for accurate signature.\n",
      " |  \n",
      " |  __repr__(self) -> str\n",
      " |      Return repr(self).\n",
      " |  \n",
      " |  ----------------------------------------------------------------------\n",
      " |  Data descriptors defined here:\n",
      " |  \n",
      " |  __dict__\n",
      " |      dictionary for instance variables (if defined)\n",
      " |  \n",
      " |  __weakref__\n",
      " |      list of weak references to the object (if defined)\n",
      " |  \n",
      " |  name\n",
      " |      Returns the column name.\n",
      " |  \n",
      " |  ----------------------------------------------------------------------\n",
      " |  Data and other attributes defined here:\n",
      " |  \n",
      " |  __hash__ = None\n",
      "\n",
      "None\n"
     ]
    }
   ],
   "source": [
    "print(help(StructField(\"DOJ\",DateType())))"
   ]
  },
  {
   "cell_type": "code",
   "execution_count": 8,
   "id": "74ad0d24-e967-4997-800d-ecab8be9b831",
   "metadata": {},
   "outputs": [],
   "source": [
    "copied_into_result, qid = cl.copy_to_table(session, config_file, schema)"
   ]
  },
  {
   "cell_type": "code",
   "execution_count": 9,
   "id": "2fdec215-4c9f-42a5-b764-2a5b2f667790",
   "metadata": {},
   "outputs": [
    {
     "name": "stdout",
     "output_type": "stream",
     "text": [
      "[Row(file='s3://inzs3bucketlearn/sp_csv/employee02.csv', status='LOADED', rows_parsed=5, rows_loaded=5, error_limit=5, errors_seen=0, first_error=None, first_error_line=None, first_error_character=None, first_error_column_name=None), Row(file='s3://inzs3bucketlearn/sp_csv/employee04.csv', status='LOADED', rows_parsed=5, rows_loaded=5, error_limit=5, errors_seen=0, first_error=None, first_error_line=None, first_error_character=None, first_error_column_name=None), Row(file='s3://inzs3bucketlearn/sp_csv/employee01.csv', status='LOADED', rows_parsed=5, rows_loaded=5, error_limit=5, errors_seen=0, first_error=None, first_error_line=None, first_error_character=None, first_error_column_name=None), Row(file='s3://inzs3bucketlearn/sp_csv/employee03.csv', status='LOADED', rows_parsed=5, rows_loaded=5, error_limit=5, errors_seen=0, first_error=None, first_error_line=None, first_error_character=None, first_error_column_name=None), Row(file='s3://inzs3bucketlearn/sp_csv/employee05.csv', status='PARTIALLY_LOADED', rows_parsed=5, rows_loaded=4, error_limit=5, errors_seen=1, first_error=\"Date 'y2/21/2024yyyy' is not recognized\", first_error_line=2, first_error_character=68, first_error_column_name='\"EMPLOYEE\"[\"DOJ\":6]')]\n"
     ]
    }
   ],
   "source": [
    "print(copied_into_result)"
   ]
  },
  {
   "cell_type": "code",
   "execution_count": 10,
   "id": "818cdea9-86b7-41d4-a6ff-da8174c64d65",
   "metadata": {},
   "outputs": [
    {
     "name": "stdout",
     "output_type": "stream",
     "text": [
      "01b5075c-3201-1cdd-0008-f88a0001971a\n"
     ]
    }
   ],
   "source": [
    "print(qid)"
   ]
  },
  {
   "cell_type": "code",
   "execution_count": 11,
   "id": "ddde8227-4dae-42f7-89f5-658fa637ec3a",
   "metadata": {},
   "outputs": [],
   "source": [
    "copied_into_result_df = session.create_dataframe(copied_into_result)"
   ]
  },
  {
   "cell_type": "markdown",
   "id": "aa563089-d3fe-4490-971b-bbcf9d4d2931",
   "metadata": {},
   "source": [
    "# Important thing to remember"
   ]
  },
  {
   "cell_type": "code",
   "execution_count": 16,
   "id": "a00e2a9f-e9ff-4c52-9ea8-c88990b92e54",
   "metadata": {},
   "outputs": [],
   "source": [
    "#this cell is commented out to document this error\n",
    "#copied_into_result_df.show()\n",
    "\n",
    "x = \"\"\"\n",
    "--------------------------------------------------------------------------------------------------------------------------------------------------------------------------------------------------------------------------------------------\n",
    "|\"FILE\"                                       |\"STATUS\"          |\"ROWS_PARSED\"  |\"ROWS_LOADED\"  |\"ERROR_LIMIT\"  |\"ERRORS_SEEN\"  |\"FIRST_ERROR\"                 |\"FIRST_ERROR_LINE\"  |\"FIRST_ERROR_CHARACTER\"  |\"FIRST_ERROR_COLUMN_NAME\"  |\n",
    "--------------------------------------------------------------------------------------------------------------------------------------------------------------------------------------------------------------------------------------------\n",
    "|s3://inzs3bucketlearn/sp_csv/employee04.csv  |PARTIALLY_LOADED  |6              |5              |6              |1              |Date 'DOJ' is not recognized  |1                   |42                       |\"EMPLOYEE\"[\"DOJ\":6]        |\n",
    "|s3://inzs3bucketlearn/sp_csv/employee01.csv  |PARTIALLY_LOADED  |6              |5              |6              |1              |Date 'DOJ' is not recognized  |1                   |42                       |\"EMPLOYEE\"[\"DOJ\":6]        |\n",
    "|s3://inzs3bucketlearn/sp_csv/employee05.csv  |PARTIALLY_LOADED  |6              |4              |6              |2              |Date 'DOJ' is not recognized  |1                   |42                       |\"EMPLOYEE\"[\"DOJ\":6]        |\n",
    "|s3://inzs3bucketlearn/sp_csv/employee02.csv  |PARTIALLY_LOADED  |6              |5              |6              |1              |Date 'DOJ' is not recognized  |1                   |42                       |\"EMPLOYEE\"[\"DOJ\":6]        |\n",
    "|s3://inzs3bucketlearn/sp_csv/employee03.csv  |PARTIALLY_LOADED  |6              |5              |6              |1              |Date 'DOJ' is not recognized  |1                   |42                       |\"EMPLOYEE\"[\"DOJ\":6]        |\n",
    "--------------------------------------------------------------------------------------------------------------------------------------------------------------------------------------------------------------------------------------------\n",
    "\"\"\"\n",
    "y = \"\"\"\n",
    "#This error was rectified in the following manner: \n",
    " >> in code library file we made the following change: \n",
    "     df = session.read.options({\"skip_header\":1}).schema(schema).csv(\"'\"+Source_location+\"'\")\n",
    " >> You can search the above line to see it in the code initially it was like shown below, which was wrong:\n",
    "        .>>  df = session.read.schema(schema).csv(\"'\"+Source_location+\"'\")\n",
    "\"\"\""
   ]
  },
  {
   "cell_type": "code",
   "execution_count": 13,
   "id": "e79ffd77-2590-45c3-becb-8eb14f924092",
   "metadata": {},
   "outputs": [
    {
     "name": "stdout",
     "output_type": "stream",
     "text": [
      "-------------------------------------------\n",
      "|\"status\"                                 |\n",
      "-------------------------------------------\n",
      "|Stage area S3_STG successfully created.  |\n",
      "-------------------------------------------\n",
      "\n"
     ]
    }
   ],
   "source": [
    "# Create stage object with integration object & file format object\n",
    "\n",
    "\n",
    "result = session.sql(\n",
    "    f\"\"\"\n",
    "        CREATE OR REPLACE stage demo_db.external_stages.s3_stg\n",
    "            URL = {cl.secrets['s3_bucket_for_stg']}\n",
    "            STORAGE_INTEGRATION = s3_int\n",
    "    \"\"\"\n",
    "    )\n",
    "\n",
    "result.show()"
   ]
  },
  {
   "cell_type": "code",
   "execution_count": 14,
   "id": "2c74b5cb-38a7-4c46-b696-6bd278acd594",
   "metadata": {},
   "outputs": [
    {
     "name": "stdout",
     "output_type": "stream",
     "text": [
      "-------------------------------------------------------------------------------------------------------------------------------------------------------------------------------------------------------------------------------------------------------\n",
      "|\"FILE\"                                       |\"STATUS\"          |\"ROWS_PARSED\"  |\"ROWS_LOADED\"  |\"ERROR_LIMIT\"  |\"ERRORS_SEEN\"  |\"FIRST_ERROR\"                            |\"FIRST_ERROR_LINE\"  |\"FIRST_ERROR_CHARACTER\"  |\"FIRST_ERROR_COLUMN_NAME\"  |\n",
      "-------------------------------------------------------------------------------------------------------------------------------------------------------------------------------------------------------------------------------------------------------\n",
      "|s3://inzs3bucketlearn/sp_csv/employee02.csv  |LOADED            |5              |5              |5              |0              |NULL                                     |NULL                |NULL                     |NULL                       |\n",
      "|s3://inzs3bucketlearn/sp_csv/employee04.csv  |LOADED            |5              |5              |5              |0              |NULL                                     |NULL                |NULL                     |NULL                       |\n",
      "|s3://inzs3bucketlearn/sp_csv/employee01.csv  |LOADED            |5              |5              |5              |0              |NULL                                     |NULL                |NULL                     |NULL                       |\n",
      "|s3://inzs3bucketlearn/sp_csv/employee03.csv  |LOADED            |5              |5              |5              |0              |NULL                                     |NULL                |NULL                     |NULL                       |\n",
      "|s3://inzs3bucketlearn/sp_csv/employee05.csv  |PARTIALLY_LOADED  |5              |4              |5              |1              |Date 'y2/21/2024yyyy' is not recognized  |2                   |68                       |\"EMPLOYEE\"[\"DOJ\":6]        |\n",
      "-------------------------------------------------------------------------------------------------------------------------------------------------------------------------------------------------------------------------------------------------------\n",
      "\n"
     ]
    }
   ],
   "source": [
    "copied_into_result_df.show()"
   ]
  }
 ],
 "metadata": {
  "kernelspec": {
   "display_name": "Python 3 (ipykernel)",
   "language": "python",
   "name": "python3"
  },
  "language_info": {
   "codemirror_mode": {
    "name": "ipython",
    "version": 3
   },
   "file_extension": ".py",
   "mimetype": "text/x-python",
   "name": "python",
   "nbconvert_exporter": "python",
   "pygments_lexer": "ipython3",
   "version": "3.9.16"
  }
 },
 "nbformat": 4,
 "nbformat_minor": 5
}
